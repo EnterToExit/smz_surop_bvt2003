{
 "cells": [
  {
   "cell_type": "markdown",
   "id": "0dc86520",
   "metadata": {},
   "source": [
    "#### Лабораторная работа № 1. Разработка нейросетевых функций. Операция Convolution 2D\n",
    "#### БВТ2003 Суроп Максим Андреевич"
   ]
  },
  {
   "cell_type": "code",
   "execution_count": 29,
   "id": "df774935",
   "metadata": {},
   "outputs": [],
   "source": [
    "import torch\n",
    "import numpy as np\n",
    "from typing import Union"
   ]
  },
  {
   "cell_type": "code",
   "execution_count": 30,
   "id": "f8621eb1",
   "metadata": {},
   "outputs": [],
   "source": [
    "class Conv2D:\n",
    "    def __init__(self, in_channels: int, out_channels: int, kernel_size: Union[int, tuple], stride: Union[int, tuple] = 1) -> None:\n",
    "        # Инициализация параметров сверточного слоя\n",
    "        self.in_channels, self.out_channels = in_channels, out_channels\n",
    "        # Преобразование размера ядра и шага в кортеж, если они заданы в виде целых чисел\n",
    "        self.kernel_size = (kernel_size, kernel_size) if isinstance(kernel_size, int) else kernel_size\n",
    "        self.stride = (stride, stride) if isinstance(stride, int) else stride\n",
    "\n",
    "        # Инициализация весов (ядер свертки) и смещений\n",
    "        self.weights = np.random.randn(out_channels, in_channels, *self.kernel_size)\n",
    "        self.bias = np.zeros((out_channels,))\n",
    "\n",
    "    def forward(self, input_tensor: np.ndarray) -> np.ndarray:\n",
    "        # Извлечение размеров входного тензора\n",
    "        batch_size, in_channels, input_height, input_width = input_tensor.shape\n",
    "        kernel_size, stride = self.kernel_size, self.stride\n",
    "\n",
    "        # Проверка корректности размера ядра относительно входного тензора\n",
    "        if input_height < kernel_size[0] or input_width < kernel_size[1]:\n",
    "            raise ValueError(\"Неверный размер ядра для входного тензора\")\n",
    "\n",
    "        # Извлечение размеров окна свертки и выходного тензора\n",
    "        stride_h, stride_w = stride\n",
    "        output_height = (input_height - kernel_size[0]) // stride_h + 1\n",
    "        output_width = (input_width - kernel_size[1]) // stride_w + 1\n",
    "\n",
    "        # Инициализация результата свертки\n",
    "        result = np.zeros((batch_size, self.out_channels, output_height, output_width))\n",
    "\n",
    "        # Выполнение операции свертки\n",
    "        for i in range(0, input_height - kernel_size[0] + 1, stride_h):\n",
    "            for j in range(0, input_width - kernel_size[1] + 1, stride_w):\n",
    "                # Извлечение окна свертки из входного тензора\n",
    "                window = input_tensor[:, :, i:i + kernel_size[0], j:j + kernel_size[1]]\n",
    "\n",
    "                # Вычисление свертки и добавление смещения\n",
    "                result[:, :, i // stride_h, j // stride_w] = np.sum(window * self.weights, axis=(1, 2, 3)) + self.bias\n",
    "\n",
    "        return result\n"
   ]
  },
  {
   "cell_type": "code",
   "execution_count": 31,
   "id": "335c9c9f",
   "metadata": {},
   "outputs": [],
   "source": [
    "def run_test(in_channels, out_channels, kernel_size, stride, padding, dilation, groups, bias, padding_mode):\n",
    "    # Создание экземпляра Conv2D\n",
    "    conv_layer = Conv2D(in_channels, out_channels, kernel_size, stride)\n",
    "\n",
    "    # Создание тензора для теста\n",
    "    input_tensor = np.random.randn(1, in_channels, 10, 10)\n",
    "\n",
    "    # Выполнение свертки собственной реализацией\n",
    "    result_conv2d = conv_layer.forward(input_tensor)\n",
    "\n",
    "    # Выполнение свертки с использованием PyTorch и преобразование в numpy\n",
    "    input_tensor_torch = torch.tensor(input_tensor)\n",
    "    output_tensor_torch = torch.nn.functional.conv2d(input_tensor_torch,\n",
    "                                                      torch.tensor(conv_layer.weights),\n",
    "                                                      bias=torch.tensor(conv_layer.bias),\n",
    "                                                      stride=stride,\n",
    "                                                      padding=padding,\n",
    "                                                      dilation=dilation,\n",
    "                                                      groups=groups).numpy()\n",
    "\n",
    "    # Обрезание результатов для сравнения\n",
    "    min_height, min_width = map(min, (result_conv2d.shape[2:], output_tensor_torch.shape[2:]))\n",
    "    result_conv2d, output_tensor_torch = result_conv2d[:, :, :min_height, :min_width], output_tensor_torch[:, :, :min_height, :min_width]\n",
    "\n",
    "    # Проверка совпадения результатов\n",
    "    are_results_equal = np.allclose(result_conv2d, output_tensor_torch)\n",
    "\n",
    "    # Вывод информации о тесте\n",
    "    print(f\"Тест с параметрами:\\n  - in_channels: {in_channels}\\n  - out_channels: {out_channels}\\n  - kernel_size: {kernel_size}\\n  - stride: {stride}\\n  - padding: {padding}\\n  - dilation: {dilation}\\n  - groups: {groups}\\n  - bias: {bias}\\n  - padding_mode: {padding_mode}\\n\\nРезультат свертки совпадает: {are_results_equal}\\n\\n{'-' * 75}\\n\")\n"
   ]
  },
  {
   "cell_type": "code",
   "execution_count": 32,
   "id": "0ec13ab4",
   "metadata": {},
   "outputs": [],
   "source": [
    "def test_params() -> None:\n",
    "    # параметры тестирования для первой группы\n",
    "    run_test(in_channels=8, out_channels=20, kernel_size=3, stride=1, padding=0, dilation=1, groups=1, bias=True, padding_mode='zeros')\n",
    "\n",
    "    # параметры тестирования для второй группы\n",
    "    run_test(in_channels=8, out_channels=4, kernel_size=2, stride=(2, 3), padding=0, dilation=1, groups=1, bias=True, padding_mode='replicate')\n",
    "\n",
    "    # параметры тестирования для третьей группы\n",
    "    run_test(in_channels=5, out_channels=32, kernel_size=(3, 2), stride=(4, 3), padding=1, dilation=2, groups=1, bias=True, padding_mode='zeros')\n"
   ]
  },
  {
   "cell_type": "code",
   "execution_count": 33,
   "id": "f00decdb",
   "metadata": {},
   "outputs": [
    {
     "name": "stdout",
     "output_type": "stream",
     "text": [
      "Результат свертки (Conv2D):\n",
      " [[[[ 1.35409044  1.76470831]\n",
      "   [-6.78434554 -3.28487237]]\n",
      "\n",
      "  [[ 4.92295796 -5.82149661]\n",
      "   [ 1.03260716 -3.8928171 ]]]]\n"
     ]
    }
   ],
   "source": [
    "# параметры тестирования для дополнительной группы\n",
    "input_tensor = np.random.randn(1, 3, 5, 5)\n",
    "conv_layer = Conv2D(in_channels=3, out_channels=2, kernel_size=3, stride=(2, 2))\n",
    "output_tensor = conv_layer.forward(input_tensor)\n",
    "\n",
    "print(f\"Результат свертки (Conv2D):\\n {output_tensor}\")"
   ]
  },
  {
   "cell_type": "code",
   "execution_count": 34,
   "id": "d5bffd23",
   "metadata": {},
   "outputs": [
    {
     "name": "stdout",
     "output_type": "stream",
     "text": [
      "Результат свертки (PyTorch):\n",
      " [[[[ 1.35409044  1.76470831]\n",
      "   [-6.78434554 -3.28487237]]\n",
      "\n",
      "  [[ 4.92295796 -5.82149661]\n",
      "   [ 1.03260716 -3.8928171 ]]]]\n"
     ]
    }
   ],
   "source": [
    "# преобразование результатов в формат torch.Tensor для сравнения с PyTorch\n",
    "input_tensor_torch = torch.tensor(input_tensor)\n",
    "output_tensor_torch = torch.nn.functional.conv2d(input_tensor_torch, \n",
    "                                                  torch.tensor(conv_layer.weights), \n",
    "                                                  bias=torch.tensor(conv_layer.bias), \n",
    "                                                  stride=(2, 2)).numpy()\n",
    "\n",
    "print(f\"Результат свертки (PyTorch):\\n {output_tensor_torch}\")"
   ]
  },
  {
   "cell_type": "code",
   "execution_count": 35,
   "id": "84e01fde",
   "metadata": {},
   "outputs": [
    {
     "name": "stdout",
     "output_type": "stream",
     "text": [
      "Тест с параметрами:\n",
      "  - in_channels: 8\n",
      "  - out_channels: 20\n",
      "  - kernel_size: 3\n",
      "  - stride: 1\n",
      "  - padding: 0\n",
      "  - dilation: 1\n",
      "  - groups: 1\n",
      "  - bias: True\n",
      "  - padding_mode: zeros\n",
      "\n",
      "Результат свертки совпадает: True\n",
      "\n",
      "---------------------------------------------------------------------------\n",
      "\n",
      "Тест с параметрами:\n",
      "  - in_channels: 8\n",
      "  - out_channels: 4\n",
      "  - kernel_size: 2\n",
      "  - stride: (2, 3)\n",
      "  - padding: 0\n",
      "  - dilation: 1\n",
      "  - groups: 1\n",
      "  - bias: True\n",
      "  - padding_mode: replicate\n",
      "\n",
      "Результат свертки совпадает: True\n",
      "\n",
      "---------------------------------------------------------------------------\n",
      "\n",
      "Тест с параметрами:\n",
      "  - in_channels: 5\n",
      "  - out_channels: 32\n",
      "  - kernel_size: (3, 2)\n",
      "  - stride: (4, 3)\n",
      "  - padding: 1\n",
      "  - dilation: 2\n",
      "  - groups: 1\n",
      "  - bias: True\n",
      "  - padding_mode: zeros\n",
      "\n",
      "Результат свертки совпадает: False\n",
      "\n",
      "---------------------------------------------------------------------------\n",
      "\n"
     ]
    }
   ],
   "source": [
    "test_params()"
   ]
  }
 ],
 "metadata": {
  "kernelspec": {
   "display_name": "Python 3 (ipykernel)",
   "language": "python",
   "name": "python3"
  },
  "language_info": {
   "codemirror_mode": {
    "name": "ipython",
    "version": 3
   },
   "file_extension": ".py",
   "mimetype": "text/x-python",
   "name": "python",
   "nbconvert_exporter": "python",
   "pygments_lexer": "ipython3",
   "version": "3.11.6"
  }
 },
 "nbformat": 4,
 "nbformat_minor": 5
}
